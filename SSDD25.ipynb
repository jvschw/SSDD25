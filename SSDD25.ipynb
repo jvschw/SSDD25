{
 "cells": [
  {
   "cell_type": "markdown",
   "id": "780e968b",
   "metadata": {},
   "source": [
    "# Summer School for Olfaction Dresden 2025\n",
    "jens.schwarzbach@ukr.de\n",
    "<table align=\"left\">\n",
    "  <td>\n",
    "    <a target=\"_blank\" href=\"https://colab.research.google.com/github/jvschw/SSDD25/blob/main/SSDD25.ipynb                             \n",
    "                             \"><img src=\"https://www.tensorflow.org/images/colab_logo_32px.png\" />Run in Google Colab</a>\n",
    "  </td>\n",
    "</table>"
   ]
  },
  {
   "cell_type": "code",
   "execution_count": 1,
   "id": "fc7c9fa5",
   "metadata": {},
   "outputs": [
    {
     "name": "stdout",
     "output_type": "stream",
     "text": [
      "cp: ssdd25@195.37.16.234/Lager/projects/SSDD25/SSDD25.zip: No such file or directory\r\n"
     ]
    }
   ],
   "source": [
    "#get data from zaphod\n",
    "!scp ssdd25@195.37.16.234/Lager/projects/SSDD25/SSDD25.zip ."
   ]
  },
  {
   "cell_type": "markdown",
   "id": "208562f4",
   "metadata": {},
   "source": [
    "- click on Run in Google Colab button\n",
    "- open a terminal (there is a \"terminal\" button in the status line on the bottom of this window)\n",
    "- paste the following command into the terminal:\n",
    "```scp ssdd25@195.37.16.234/Lager/projects/SSDD25/SSDD25.zip .```  \n",
    "you will be asked for a password, it is\n",
    "```ssdd25```"
   ]
  },
  {
   "cell_type": "code",
   "execution_count": null,
   "id": "250e5084",
   "metadata": {},
   "outputs": [],
   "source": [
    "import numpy as np"
   ]
  }
 ],
 "metadata": {
  "kernelspec": {
   "display_name": "Python 3 (ipykernel)",
   "language": "python",
   "name": "python3"
  },
  "language_info": {
   "codemirror_mode": {
    "name": "ipython",
    "version": 3
   },
   "file_extension": ".py",
   "mimetype": "text/x-python",
   "name": "python",
   "nbconvert_exporter": "python",
   "pygments_lexer": "ipython3",
   "version": "3.9.18"
  }
 },
 "nbformat": 4,
 "nbformat_minor": 5
}
