{
 "cells": [
  {
   "cell_type": "markdown",
   "id": "780e968b",
   "metadata": {},
   "source": [
    "# Summer School for Olfaction Dresden 2025\n",
    "jens.schwarzbach@ukr.de"
   ]
  },
  {
   "cell_type": "code",
   "execution_count": null,
   "id": "250e5084",
   "metadata": {},
   "outputs": [],
   "source": []
  }
 ],
 "metadata": {
  "kernelspec": {
   "display_name": "Python 3 (ipykernel)",
   "language": "python",
   "name": "python3"
  },
  "language_info": {
   "codemirror_mode": {
    "name": "ipython",
    "version": 3
   },
   "file_extension": ".py",
   "mimetype": "text/x-python",
   "name": "python",
   "nbconvert_exporter": "python",
   "pygments_lexer": "ipython3",
   "version": "3.9.18"
  }
 },
 "nbformat": 4,
 "nbformat_minor": 5
}
